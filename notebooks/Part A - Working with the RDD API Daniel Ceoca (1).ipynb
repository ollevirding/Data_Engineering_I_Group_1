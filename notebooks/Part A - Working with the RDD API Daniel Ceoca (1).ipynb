{
 "cells": [
  {
   "cell_type": "code",
   "execution_count": 6,
   "id": "076905ba-5c2e-4a45-a9b5-44910d92e011",
   "metadata": {
    "scrolled": true
   },
   "outputs": [],
   "source": [
    "from pyspark.sql import SparkSession\n",
    "\n",
    "# New API\n",
    "spark_session = SparkSession.builder\\\n",
    "        .master(\"spark://192.168.2.133:7077\") \\\n",
    "        .appName(\"PART_AB_DanielCeoca\")\\\n",
    "        .config(\"spark.dynamicAllocation.enabled\", True)\\\n",
    "        .config(\"spark.dynamicAllocation.shuffleTracking.enabled\",True)\\\n",
    "        .config(\"spark.shuffle.service.enabled\", False)\\\n",
    "        .config(\"spark.dynamicAllocation.executorIdleTimeout\",\"30s\")\\\n",
    "        .config(\"spark.executor.cores\", 4)\\\n",
    "        .config(\"spark.driver.port\",9999)\\\n",
    "        .config(\"spark.blockManager.port\",10005)\\\n",
    "        .getOrCreate()\n",
    "\n",
    "# Old API (RDD)\n",
    "spark_context = spark_session.sparkContext\n",
    "\n",
    "spark_context.setLogLevel(\"WARN\")"
   ]
  },
  {
   "cell_type": "code",
   "execution_count": 7,
   "id": "c75a94a6",
   "metadata": {},
   "outputs": [],
   "source": [
    "#book=spark_context.textFile('hdfs://192.168.2.250:9000/20417.txt.utf-8')\n",
    "\n",
    "transcripts = spark_context.textFile('hdfs://192.168.2.133:9000/yasp-chunk-small-aa.json')\n",
    "\n",
    "line_count = transcripts.count()"
   ]
  },
  {
   "cell_type": "code",
   "execution_count": 11,
   "id": "da9dc425-424e-4f0b-877a-36bfdfa8ee7b",
   "metadata": {},
   "outputs": [
    {
     "name": "stderr",
     "output_type": "stream",
     "text": [
      "                                                                                \r"
     ]
    },
    {
     "name": "stdout",
     "output_type": "stream",
     "text": [
      "Number of lines: 101\n"
     ]
    }
   ],
   "source": [
    "transcripts_df = spark_session.read.json('hdfs://192.168.2.133:9000/yasp-chunk-small-aa.json')\n",
    "#transcripts_df.show()\n",
    "\n",
    "# Get the number of lines in the DataFrame\n",
    "line_count = transcripts_df.count()\n",
    "print(\"Number of lines:\", line_count)"
   ]
  },
  {
   "cell_type": "code",
   "execution_count": 10,
   "id": "c815e5b6-0293-4666-bc1a-8c9b6a9f19da",
   "metadata": {},
   "outputs": [
    {
     "name": "stdout",
     "output_type": "stream",
     "text": [
      "The line count in sv-en.en 101\n"
     ]
    }
   ],
   "source": [
    "#A.1.1 Read the English transcripts with Spark, and count the number of lines.\n",
    "print(\"The line count in sv-en.en\", line_count)"
   ]
  },
  {
   "cell_type": "code",
   "execution_count": null,
   "id": "a645607d-6e11-4b46-9fd1-da8db8833e27",
   "metadata": {},
   "outputs": [],
   "source": []
  }
 ],
 "metadata": {
  "kernelspec": {
   "display_name": "Python 3 (ipykernel)",
   "language": "python",
   "name": "python3"
  },
  "language_info": {
   "codemirror_mode": {
    "name": "ipython",
    "version": 3
   },
   "file_extension": ".py",
   "mimetype": "text/x-python",
   "name": "python",
   "nbconvert_exporter": "python",
   "pygments_lexer": "ipython3",
   "version": "3.8.10"
  }
 },
 "nbformat": 4,
 "nbformat_minor": 5
}
